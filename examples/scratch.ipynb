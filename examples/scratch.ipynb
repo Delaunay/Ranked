{
 "cells": [
  {
   "cell_type": "code",
   "execution_count": 32,
   "id": "b43f0c91",
   "metadata": {},
   "outputs": [],
   "source": [
    "from sympy import symbols, exp, ln"
   ]
  },
  {
   "cell_type": "code",
   "execution_count": 54,
   "id": "662ebd25",
   "metadata": {},
   "outputs": [],
   "source": [
    "s1, s2, y = symbols('s1 s2 y')\n",
    "v1, v2 = symbols('v1, v2')\n",
    "\n",
    "n1 = (s1 - 1500) / v1\n",
    "n2 = (s2 - 1500) / v2\n",
    "\n",
    "f = 1 / (1 + exp(- (n1 - n2)))"
   ]
  },
  {
   "cell_type": "code",
   "execution_count": null,
   "id": "a45a9cd4",
   "metadata": {},
   "outputs": [],
   "source": []
  },
  {
   "cell_type": "code",
   "execution_count": 58,
   "id": "aa7f26b0",
   "metadata": {},
   "outputs": [
    {
     "data": {
      "text/latex": [
       "$\\displaystyle \\frac{1}{e^{\\frac{s_{2} - 1500}{v_{2}} - \\frac{s_{1} - 1500}{v_{1}}} + 1}$"
      ],
      "text/plain": [
       "1/(exp((s2 - 1500)/v2 - (s1 - 1500)/v1) + 1)"
      ]
     },
     "execution_count": 58,
     "metadata": {},
     "output_type": "execute_result"
    }
   ],
   "source": [
    "f"
   ]
  },
  {
   "cell_type": "code",
   "execution_count": 56,
   "id": "b602ac94",
   "metadata": {},
   "outputs": [],
   "source": [
    "l = y * ln(f) + (1 - y) * ln(1 - f)"
   ]
  },
  {
   "cell_type": "code",
   "execution_count": 57,
   "id": "e6bfd204",
   "metadata": {},
   "outputs": [
    {
     "data": {
      "text/latex": [
       "$\\displaystyle y \\log{\\left(\\frac{1}{e^{\\frac{s_{2} - 1500}{v_{2}} - \\frac{s_{1} - 1500}{v_{1}}} + 1} \\right)} + \\left(1 - y\\right) \\log{\\left(1 - \\frac{1}{e^{\\frac{s_{2} - 1500}{v_{2}} - \\frac{s_{1} - 1500}{v_{1}}} + 1} \\right)}$"
      ],
      "text/plain": [
       "y*log(1/(exp((s2 - 1500)/v2 - (s1 - 1500)/v1) + 1)) + (1 - y)*log(1 - 1/(exp((s2 - 1500)/v2 - (s1 - 1500)/v1) + 1))"
      ]
     },
     "execution_count": 57,
     "metadata": {},
     "output_type": "execute_result"
    }
   ],
   "source": [
    "l"
   ]
  },
  {
   "cell_type": "code",
   "execution_count": 63,
   "id": "fb8ea44c",
   "metadata": {},
   "outputs": [
    {
     "data": {
      "text/latex": [
       "$\\displaystyle \\frac{y e^{\\frac{s_{2} - 1500}{v_{2}} - \\frac{s_{1} - 1500}{v_{1}}}}{v_{1} \\left(e^{\\frac{s_{2} - 1500}{v_{2}} - \\frac{s_{1} - 1500}{v_{1}}} + 1\\right)} - \\frac{\\left(1 - y\\right) e^{\\frac{s_{2} - 1500}{v_{2}} - \\frac{s_{1} - 1500}{v_{1}}}}{v_{1} \\left(1 - \\frac{1}{e^{\\frac{s_{2} - 1500}{v_{2}} - \\frac{s_{1} - 1500}{v_{1}}} + 1}\\right) \\left(e^{\\frac{s_{2} - 1500}{v_{2}} - \\frac{s_{1} - 1500}{v_{1}}} + 1\\right)^{2}}$"
      ],
      "text/plain": [
       "y*exp((s2 - 1500)/v2 - (s1 - 1500)/v1)/(v1*(exp((s2 - 1500)/v2 - (s1 - 1500)/v1) + 1)) - (1 - y)*exp((s2 - 1500)/v2 - (s1 - 1500)/v1)/(v1*(1 - 1/(exp((s2 - 1500)/v2 - (s1 - 1500)/v1) + 1))*(exp((s2 - 1500)/v2 - (s1 - 1500)/v1) + 1)**2)"
      ]
     },
     "execution_count": 63,
     "metadata": {},
     "output_type": "execute_result"
    }
   ],
   "source": [
    "from sympy import diff\n",
    "\n",
    "s1_update = diff(l, s1)\n",
    "v1_update = diff(l, v1)\n",
    "\n",
    "s2_update = diff(l, s2)\n",
    "s1_update"
   ]
  },
  {
   "cell_type": "code",
   "execution_count": 39,
   "id": "0626c84b",
   "metadata": {},
   "outputs": [
    {
     "data": {
      "text/latex": [
       "$\\displaystyle \\frac{y e^{- s_{1} + s_{2}}}{e^{- s_{1} + s_{2}} + 1} - \\frac{\\left(1 - y\\right) e^{- s_{1} + s_{2}}}{\\left(1 - \\frac{1}{e^{- s_{1} + s_{2}} + 1}\\right) \\left(e^{- s_{1} + s_{2}} + 1\\right)^{2}}$"
      ],
      "text/plain": [
       "y*exp(-s1 + s2)/(exp(-s1 + s2) + 1) - (1 - y)*exp(-s1 + s2)/((1 - 1/(exp(-s1 + s2) + 1))*(exp(-s1 + s2) + 1)**2)"
      ]
     },
     "execution_count": 39,
     "metadata": {},
     "output_type": "execute_result"
    }
   ],
   "source": [
    "update"
   ]
  },
  {
   "cell_type": "code",
   "execution_count": 67,
   "id": "90aa21b5",
   "metadata": {},
   "outputs": [
    {
     "name": "stdout",
     "output_type": "stream",
     "text": [
      "{'s1': 1500, 's2': 1400, 'y': 1, 'v1': 300, 'v2': 35}\n",
      "Probability of Winning: 0.945686733867359\n",
      "S1 Update:  0.000181044220442135\n",
      "V1 Update:  -0.e-263\n"
     ]
    }
   ],
   "source": [
    "# S1 is higher than s2 so it is expected to win and he does\n",
    "# S1\n",
    "conf = dict(s1=1500, s2=1400, y=1, v1=300, v2=35)\n",
    "print(conf)\n",
    "print('Probability of Winning:', f.evalf(subs=conf))\n",
    "print('S1 Update: ', s1_update.evalf(subs=conf))\n",
    "print('V1 Update: ', v1_update.evalf(subs=conf))"
   ]
  },
  {
   "cell_type": "code",
   "execution_count": 80,
   "id": "5bf8d122",
   "metadata": {},
   "outputs": [
    {
     "name": "stdout",
     "output_type": "stream",
     "text": [
      "{'s1': 1500, 's2': 1400, 'y': 0, 'v1': 200, 'v2': 400}\n",
      "Probability of Winning: 0.562176500885798\n",
      "S1 Update:  -0.00281088250442899\n",
      "V1 Update:  0\n"
     ]
    }
   ],
   "source": [
    "# S1 is higher than s2 so it is expected to win but losses\n",
    "# S1 is less consistent\n",
    "conf = dict(s1=1500, s2=1400, y=0, v1=200, v2=400)\n",
    "print(conf)\n",
    "print('Probability of Winning:', f.evalf(subs=conf))\n",
    "print('S1 Update: ', s1_update.evalf(subs=conf))\n",
    "print('V1 Update: ', v1_update.evalf(subs=conf))"
   ]
  },
  {
   "cell_type": "code",
   "execution_count": 48,
   "id": "5f44a140",
   "metadata": {},
   "outputs": [
    {
     "name": "stdout",
     "output_type": "stream",
     "text": [
      "{'s1': 0.9333333333333333, 's2': 1.0, 'y': 1}\n",
      "Probability of Winning: 0.483339503430589\n",
      "Update:  0.516660496569411\n"
     ]
    }
   ],
   "source": [
    "# S1 is lower than s2 so it is expected to lose but win\n",
    "conf = dict(s1=1400 / 1500, s2=1500 /1500, y=1)\n",
    "print(conf)\n",
    "print('Probability of Winning:', f.evalf(subs=conf))\n",
    "print('Update: ', s1_update.evalf(subs=conf))"
   ]
  },
  {
   "cell_type": "code",
   "execution_count": 50,
   "id": "749b0138",
   "metadata": {},
   "outputs": [
    {
     "name": "stdout",
     "output_type": "stream",
     "text": [
      "{'s1': 0.9333333333333333, 's2': 1.0, 'y': 0}\n",
      "Probability of Winning: 0.483339503430589\n",
      "Update:  -0.483339503430589\n"
     ]
    }
   ],
   "source": [
    "# S1 is lower than s2 so it is expected to lose and he does\n",
    "conf = dict(s1=1400 / 1500, s2=1500 /1500, y=0)\n",
    "print(conf)\n",
    "print('Probability of Winning:', f.evalf(subs=conf))\n",
    "print('Update: ', s1_update.evalf(subs=conf))"
   ]
  },
  {
   "cell_type": "code",
   "execution_count": null,
   "id": "a0081160",
   "metadata": {},
   "outputs": [],
   "source": [
    "\n"
   ]
  },
  {
   "cell_type": "code",
   "execution_count": null,
   "id": "5bca6682",
   "metadata": {},
   "outputs": [],
   "source": []
  },
  {
   "cell_type": "code",
   "execution_count": null,
   "id": "2521fc72",
   "metadata": {},
   "outputs": [],
   "source": []
  },
  {
   "cell_type": "code",
   "execution_count": null,
   "id": "7da9cc2f",
   "metadata": {},
   "outputs": [],
   "source": []
  },
  {
   "cell_type": "code",
   "execution_count": null,
   "id": "9aff29f5",
   "metadata": {},
   "outputs": [],
   "source": []
  },
  {
   "cell_type": "code",
   "execution_count": null,
   "id": "a2e90ab5",
   "metadata": {},
   "outputs": [],
   "source": []
  },
  {
   "cell_type": "code",
   "execution_count": null,
   "id": "b2acefc5",
   "metadata": {},
   "outputs": [],
   "source": []
  }
 ],
 "metadata": {
  "kernelspec": {
   "display_name": "Python 3 (ipykernel)",
   "language": "python",
   "name": "python3"
  },
  "language_info": {
   "codemirror_mode": {
    "name": "ipython",
    "version": 3
   },
   "file_extension": ".py",
   "mimetype": "text/x-python",
   "name": "python",
   "nbconvert_exporter": "python",
   "pygments_lexer": "ipython3",
   "version": "3.9.7"
  }
 },
 "nbformat": 4,
 "nbformat_minor": 5
}
